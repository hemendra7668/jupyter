{
 "cells": [
  {
   "cell_type": "code",
   "execution_count": null,
   "id": "701a2682",
   "metadata": {},
   "outputs": [],
   "source": [
    "import pandas as pd\n",
    "\n",
    "# Load the dataset from the provided CSV file\n",
    "file_path = \"Cars.csv\"  # Update with actual file path\n",
    "df = pd.read_csv('./Cars.csv')\n"
   ]
  },
  {
   "cell_type": "code",
   "execution_count": null,
   "id": "f0e7fe3c",
   "metadata": {},
   "outputs": [
    {
     "name": "stdout",
     "output_type": "stream",
     "text": [
      "1. Car with the highest horsepower: pontiac grand prix\n",
      "2. Most common origin of cars with HP > 100 and weight < 3000: usa\n",
      "3. Year with the highest average mpg: 80\n",
      "4. Mean acceleration of Japanese cars: 16.17\n"
     ]
    }
   ],
   "source": [
    "\n",
    "\n",
    "highest_hp_car = df.loc[df[\"horsepower\"].idxmax()][\"name\"]\n",
    "\n",
    "\n",
    "filtered_df = df[(df[\"horsepower\"] > 100) & (df[\"weight\"] < 3000)]\n",
    "common_origin = filtered_df[\"origin\"].value_counts().idxmax()\n",
    "\n",
    "\n",
    "highest_avg_mpg_year = df.groupby(\"model_year\")[\"mpg\"].mean().idxmax()\n",
    "\n",
    "\n",
    "japan_acceleration_mean = round(df[df[\"origin\"] == \"japan\"][\"acceleration\"].mean(), 2)\n",
    "\n",
    "# Display results\n",
    "print(f\"1. Car with the highest horsepower: {highest_hp_car}\")\n",
    "print(f\"2. Most common origin of cars with HP > 100 and weight < 3000: {common_origin}\")\n",
    "print(f\"3. Year with the highest average mpg: {highest_avg_mpg_year}\")\n",
    "print(f\"4. Mean acceleration of Japanese cars: {japan_acceleration_mean}\")\n"
   ]
  }
 ],
 "metadata": {
  "kernelspec": {
   "display_name": "Python 3",
   "language": "python",
   "name": "python3"
  },
  "language_info": {
   "codemirror_mode": {
    "name": "ipython",
    "version": 3
   },
   "file_extension": ".py",
   "mimetype": "text/x-python",
   "name": "python",
   "nbconvert_exporter": "python",
   "pygments_lexer": "ipython3",
   "version": "3.11.0"
  }
 },
 "nbformat": 4,
 "nbformat_minor": 5
}
